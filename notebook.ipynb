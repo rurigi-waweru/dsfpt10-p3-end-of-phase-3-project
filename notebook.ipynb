{
 "cells": [
  {
   "cell_type": "markdown",
   "id": "df1b5842",
   "metadata": {},
   "source": [
    "### Contributors: Brian Waweru\n",
    "### Date        : 08th May, 2025"
   ]
  },
  {
   "cell_type": "code",
   "execution_count": 1,
   "id": "523f8126",
   "metadata": {},
   "outputs": [
    {
     "data": {
      "text/plain": [
       "2"
      ]
     },
     "execution_count": 1,
     "metadata": {},
     "output_type": "execute_result"
    }
   ],
   "source": [
    "1+1"
   ]
  },
  {
   "cell_type": "markdown",
   "id": "61184b97",
   "metadata": {},
   "source": []
  }
 ],
 "metadata": {
  "kernelspec": {
   "display_name": "learn-env",
   "language": "python",
   "name": "python3"
  },
  "language_info": {
   "codemirror_mode": {
    "name": "ipython",
    "version": 3
   },
   "file_extension": ".py",
   "mimetype": "text/x-python",
   "name": "python",
   "nbconvert_exporter": "python",
   "pygments_lexer": "ipython3",
   "version": "3.8.5"
  }
 },
 "nbformat": 4,
 "nbformat_minor": 5
}
