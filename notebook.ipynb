{
 "cells": [
  {
   "cell_type": "markdown",
   "id": "df1b5842",
   "metadata": {},
   "source": [
    "### Contributors: Brian Waweru\n",
    "### Date        : 08th May, 2025"
   ]
  },
  {
   "cell_type": "code",
   "execution_count": 13,
   "id": "cac22951",
   "metadata": {},
   "outputs": [
    {
     "name": "stdout",
     "output_type": "stream",
     "text": [
      "Data-Preparation-for-Machine-Learning.txt\n",
      "End-of-Phase-3-Specials-Notes.txt\n",
      "Grading-End-of-Phase-3.txt\n",
      "README.md\n",
      "notebook.ipynb\n",
      "phase-3-notebook-requirements.txt\n",
      "presentation.pptx\n",
      "/c/Users/rurig/OneDrive/GitFiles/phase-3/dsfpt10-p3-end-of-phase-3-project\n"
     ]
    }
   ],
   "source": [
    "! ls\n",
    "! pwd"
   ]
  },
  {
   "cell_type": "code",
   "execution_count": 21,
   "id": "523f8126",
   "metadata": {},
   "outputs": [
    {
     "data": {
      "text/plain": [
       "(3333, 21)"
      ]
     },
     "execution_count": 21,
     "metadata": {},
     "output_type": "execute_result"
    }
   ],
   "source": [
    "# \"Churn in Telecom's dataset\".lower().replace(' ', '_')\n",
    "\n",
    "import pandas as pd\n",
    "\n",
    "# file = \"/c/Users/rurig/OneDrive/GitFiles/phase-3/dsfpt10-p3-end-of-phase-3-project/churn_in_telecoms_dataset.csv\"\n",
    "file = \"churn_in_telecoms_dataset.csv\"\n",
    "df = pd.read_csv(file)\n",
    "# df.head()\n",
    "df.shape\n"
   ]
  },
  {
   "cell_type": "code",
   "execution_count": null,
   "id": "9592c6d6",
   "metadata": {},
   "outputs": [],
   "source": [
    "df."
   ]
  },
  {
   "cell_type": "markdown",
   "id": "61184b97",
   "metadata": {},
   "source": []
  }
 ],
 "metadata": {
  "kernelspec": {
   "display_name": "learn-env",
   "language": "python",
   "name": "python3"
  },
  "language_info": {
   "codemirror_mode": {
    "name": "ipython",
    "version": 3
   },
   "file_extension": ".py",
   "mimetype": "text/x-python",
   "name": "python",
   "nbconvert_exporter": "python",
   "pygments_lexer": "ipython3",
   "version": "3.8.5"
  }
 },
 "nbformat": 4,
 "nbformat_minor": 5
}
